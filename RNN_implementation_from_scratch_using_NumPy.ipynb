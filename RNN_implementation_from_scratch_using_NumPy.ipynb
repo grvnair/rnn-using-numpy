{
  "nbformat": 4,
  "nbformat_minor": 0,
  "metadata": {
    "colab": {
      "provenance": [],
      "authorship_tag": "ABX9TyOWgAZNlZCZe8DhDXWRDAku",
      "include_colab_link": true
    },
    "kernelspec": {
      "name": "python3",
      "display_name": "Python 3"
    },
    "language_info": {
      "name": "python"
    }
  },
  "cells": [
    {
      "cell_type": "markdown",
      "metadata": {
        "id": "view-in-github",
        "colab_type": "text"
      },
      "source": [
        "<a href=\"https://colab.research.google.com/github/grvnair/rnn-using-numpy/blob/main/RNN_implementation_from_scratch_using_NumPy.ipynb\" target=\"_parent\"><img src=\"https://colab.research.google.com/assets/colab-badge.svg\" alt=\"Open In Colab\"/></a>"
      ]
    },
    {
      "cell_type": "code",
      "execution_count": null,
      "metadata": {
        "id": "V3Ry52pwDyvH"
      },
      "outputs": [],
      "source": [
        "import numpy as np"
      ]
    },
    {
      "cell_type": "code",
      "source": [
        "class RNN:\n",
        "    \n",
        "    def __init__(self, input_size, hidden_size, output_size, learning_rate = 0.01):\n",
        "        self.lr = learning_rate\n",
        "        self.input_size = input_size\n",
        "        self.hidden_size = hidden_size\n",
        "        self.output_size = output_size\n",
        "        \n",
        "        # Weights\n",
        "        self.wx = np.random.randn(input_size, hidden_size) / 1000\n",
        "        self.wh = np.random.randn(hidden_size, hidden_size) / 1000\n",
        "        self.wy = np.random.randn(hidden_size, output_size) / 1000\n",
        "        \n",
        "        # Biases\n",
        "        self.bh = np.zeros((1, hidden_size))\n",
        "        self.by = np.zeros((1, output_size))\n",
        "   \n",
        "    # Forward Propagation    \n",
        "    def forwardprop(self, x):\n",
        "        \n",
        "        # Initializing h with zeros\n",
        "        prev_h = np.zeros((self.wh.shape[0], 1))\n",
        "        \n",
        "        for i in range(x.shape[0]):\n",
        "            # Computation in the hidden state\n",
        "            h = np.tanh(np.dot(x, self.wx) + np.dot(prev_h, self.wh) + self.bh)\n",
        "            prev_h = h\n",
        "        \n",
        "        # Computation in the output state\n",
        "        y = h * self.wy + self.by\n",
        "        return y, h\n",
        "    \n",
        "    # Backpropagation through time\n",
        "    def backprop(self, x, h, y, y_true):\n",
        "        \n",
        "        t = x.shape[0]\n",
        "        \n",
        "        d_wx = np.zeros_like(self.wx)\n",
        "        d_wh = np.zeros_like(self.wh)\n",
        "        d_wy = np.zeros_like(self.wy)\n",
        "        d_bh = np.zeros_like(self.bh)\n",
        "        d_by = np.zeros_like(self.by)\n",
        "        d_h = np.zeros((t + 1, self.hidden_size))\n",
        "        \n",
        "        # Looping in reverse for backpropagation\n",
        "        for i in range(t - 1, -1, -1):\n",
        "            dy = y - y_true\n",
        "            \n",
        "            # Gradient calculation in the Outer Layer\n",
        "            d_wy += np.dot(h[i].reshape(-1, 1), dy.reshape(1, -1))\n",
        "            d_by += dy\n",
        "            \n",
        "            # Gradient calculation in the Hidden Layer\n",
        "            d_h[i] = np.dot(self.wy.T, dy) + dh[i + 1] * (1 - np.power(h[t], 2))\n",
        "            d_wh += np.dot(h[i - 1].reshape(-1, 1), dh[i].reshape(1, -1))\n",
        "            d_by += d_h[i]\n",
        "            \n",
        "            # Gradient calculation in the Input Layer\n",
        "            d_wx += np.dot(x[i].reshape(-1, 1), d_h[i].reshape(1, -1))\n",
        "\n",
        "        # Updating the Weights and Biases    \n",
        "        self.wx -= self.lr * d_wx\n",
        "        self.wh -= self.lr * d_wh\n",
        "        self.wy -= self.lr * d_wy\n",
        "        self.bh -= self.lr * d_bh\n",
        "        self.by -= self.lr * d_by"
      ],
      "metadata": {
        "id": "zF_qE0QgD354"
      },
      "execution_count": null,
      "outputs": []
    }
  ]
}